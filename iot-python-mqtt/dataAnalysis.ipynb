{
 "cells": [
  {
   "cell_type": "markdown",
   "metadata": {},
   "source": [
    "##### ------------------------------------------\n",
    "##### --- Desenvolvedor: Alysson Morandi --- Data: 29/01/2022 --- Python Version: 3.8\n",
    "##### --- Objetivo: Geração de gráfico de exemplo com dados armazenados no database mqtt.db\n",
    "##### ------------------------------------------"
   ]
  },
  {
   "cell_type": "code",
   "execution_count": 3,
   "metadata": {},
   "outputs": [],
   "source": [
    "import sqlite3 as sql\n",
    "import pandas as pd\n",
    "import matplotlib.pyplot as plt\n",
    "from matplotlib import rcParams\n",
    "rcParams['figure.figsize'] = (16, 6)\n"
   ]
  },
  {
   "cell_type": "code",
   "execution_count": 4,
   "metadata": {},
   "outputs": [
    {
     "name": "stdout",
     "output_type": "stream",
     "text": [
      "   id     SensorID Location             DateTime Temperatura Umidade\n",
      "0   1      sensor2   quarto  29/01/2022 20:17:34          31      75\n",
      "1   2      sensor2   quarto  29/01/2022 20:19:33          31      75\n",
      "2   3  sensor_sala     sala  29/01/2022 20:19:44          24      75\n",
      "3   4      sensor2   quarto  29/01/2022 20:21:51          31      75\n",
      "4   5      sensor2   quarto  29/01/2022 20:22:18        31.6   75.45\n"
     ]
    }
   ],
   "source": [
    "conn = sql.connect('mqtt.db')\n",
    "df = pd.read_sql('SELECT * FROM sensors_data', conn)\n",
    "print(df.head())\n",
    "conn.close()"
   ]
  },
  {
   "cell_type": "code",
   "execution_count": 5,
   "metadata": {},
   "outputs": [
    {
     "name": "stdout",
     "output_type": "stream",
     "text": [
      "<class 'pandas.core.frame.DataFrame'>\n",
      "RangeIndex: 41 entries, 0 to 40\n",
      "Data columns (total 6 columns):\n",
      " #   Column       Non-Null Count  Dtype \n",
      "---  ------       --------------  ----- \n",
      " 0   id           41 non-null     int64 \n",
      " 1   SensorID     41 non-null     object\n",
      " 2   Location     41 non-null     object\n",
      " 3   DateTime     41 non-null     object\n",
      " 4   Temperatura  41 non-null     object\n",
      " 5   Umidade      41 non-null     object\n",
      "dtypes: int64(1), object(5)\n",
      "memory usage: 2.0+ KB\n"
     ]
    }
   ],
   "source": [
    "# info básicas do dataframe\n",
    "df.info()"
   ]
  },
  {
   "cell_type": "code",
   "execution_count": 6,
   "metadata": {},
   "outputs": [],
   "source": [
    "# conversao de tipos object\n",
    "df['DateTime'] = pd.to_datetime(df['DateTime'])\n",
    "\n",
    "df['SensorID'] = df['SensorID'].astype('string')\n",
    "df['Location'] = df['Location'].astype('string')\n",
    "df['Temperatura'] = df['Temperatura'].astype('float')\n",
    "df['Umidade'] = df['Umidade'].astype('float')\n"
   ]
  },
  {
   "cell_type": "code",
   "execution_count": 7,
   "metadata": {},
   "outputs": [
    {
     "name": "stdout",
     "output_type": "stream",
     "text": [
      "<class 'pandas.core.frame.DataFrame'>\n",
      "RangeIndex: 41 entries, 0 to 40\n",
      "Data columns (total 6 columns):\n",
      " #   Column       Non-Null Count  Dtype         \n",
      "---  ------       --------------  -----         \n",
      " 0   id           41 non-null     int64         \n",
      " 1   SensorID     41 non-null     string        \n",
      " 2   Location     41 non-null     string        \n",
      " 3   DateTime     41 non-null     datetime64[ns]\n",
      " 4   Temperatura  41 non-null     float64       \n",
      " 5   Umidade      41 non-null     float64       \n",
      "dtypes: datetime64[ns](1), float64(2), int64(1), string(2)\n",
      "memory usage: 2.0 KB\n"
     ]
    }
   ],
   "source": [
    "df.info()"
   ]
  },
  {
   "cell_type": "code",
   "execution_count": 8,
   "metadata": {},
   "outputs": [
    {
     "data": {
      "text/html": [
       "<div>\n",
       "<style scoped>\n",
       "    .dataframe tbody tr th:only-of-type {\n",
       "        vertical-align: middle;\n",
       "    }\n",
       "\n",
       "    .dataframe tbody tr th {\n",
       "        vertical-align: top;\n",
       "    }\n",
       "\n",
       "    .dataframe thead th {\n",
       "        text-align: right;\n",
       "    }\n",
       "</style>\n",
       "<table border=\"1\" class=\"dataframe\">\n",
       "  <thead>\n",
       "    <tr style=\"text-align: right;\">\n",
       "      <th></th>\n",
       "      <th>Location</th>\n",
       "      <th>id</th>\n",
       "      <th>SensorID</th>\n",
       "      <th>DateTime</th>\n",
       "      <th>Temperatura</th>\n",
       "      <th>Umidade</th>\n",
       "    </tr>\n",
       "  </thead>\n",
       "  <tbody>\n",
       "    <tr>\n",
       "      <th>0</th>\n",
       "      <td>escritorio</td>\n",
       "      <td>39</td>\n",
       "      <td>sensor3</td>\n",
       "      <td>2022-01-29 20:37:03</td>\n",
       "      <td>37.65</td>\n",
       "      <td>34.07</td>\n",
       "    </tr>\n",
       "    <tr>\n",
       "      <th>1</th>\n",
       "      <td>quarto</td>\n",
       "      <td>41</td>\n",
       "      <td>sensor2</td>\n",
       "      <td>2022-01-29 20:37:11</td>\n",
       "      <td>31.60</td>\n",
       "      <td>79.45</td>\n",
       "    </tr>\n",
       "    <tr>\n",
       "      <th>2</th>\n",
       "      <td>sala</td>\n",
       "      <td>40</td>\n",
       "      <td>sensor_sala</td>\n",
       "      <td>2022-01-29 20:37:04</td>\n",
       "      <td>32.15</td>\n",
       "      <td>75.00</td>\n",
       "    </tr>\n",
       "  </tbody>\n",
       "</table>\n",
       "</div>"
      ],
      "text/plain": [
       "     Location  id     SensorID            DateTime  Temperatura  Umidade\n",
       "0  escritorio  39      sensor3 2022-01-29 20:37:03        37.65    34.07\n",
       "1      quarto  41      sensor2 2022-01-29 20:37:11        31.60    79.45\n",
       "2        sala  40  sensor_sala 2022-01-29 20:37:04        32.15    75.00"
      ]
     },
     "execution_count": 8,
     "metadata": {},
     "output_type": "execute_result"
    }
   ],
   "source": [
    "# agrupamento de valores máximos por location\n",
    "df_location = df.groupby('Location', as_index=False).max()\n",
    "df_location.head()"
   ]
  },
  {
   "cell_type": "code",
   "execution_count": 9,
   "metadata": {},
   "outputs": [
    {
     "data": {
      "text/plain": [
       "Text(0.5, 1.0, 'Temperatura / Umidade máxima por local')"
      ]
     },
     "execution_count": 9,
     "metadata": {},
     "output_type": "execute_result"
    },
    {
     "data": {
      "image/png": "[encoded data removed]",
      "text/plain": [
       "<Figure size 1152x432 with 1 Axes>"
      ]
     },
     "metadata": {
      "needs_background": "light"
     },
     "output_type": "display_data"
    }
   ],
   "source": [
    "# plot do gráfico de barras de temperatura e umidade maxima por local\n",
    "df_location.plot.bar(x='Location', y=['Temperatura','Umidade'])\n",
    "plt.title('Temperatura / Umidade máxima por local')"
   ]
  },
  {
   "cell_type": "code",
   "execution_count": 11,
   "metadata": {},
   "outputs": [
    {
     "data": {
      "text/html": [
       "<div>\n",
       "<style scoped>\n",
       "    .dataframe tbody tr th:only-of-type {\n",
       "        vertical-align: middle;\n",
       "    }\n",
       "\n",
       "    .dataframe tbody tr th {\n",
       "        vertical-align: top;\n",
       "    }\n",
       "\n",
       "    .dataframe thead th {\n",
       "        text-align: right;\n",
       "    }\n",
       "</style>\n",
       "<table border=\"1\" class=\"dataframe\">\n",
       "  <thead>\n",
       "    <tr style=\"text-align: right;\">\n",
       "      <th></th>\n",
       "      <th>Location</th>\n",
       "      <th>id</th>\n",
       "      <th>Temperatura</th>\n",
       "      <th>Umidade</th>\n",
       "    </tr>\n",
       "  </thead>\n",
       "  <tbody>\n",
       "    <tr>\n",
       "      <th>0</th>\n",
       "      <td>escritorio</td>\n",
       "      <td>24.000000</td>\n",
       "      <td>24.829091</td>\n",
       "      <td>26.888182</td>\n",
       "    </tr>\n",
       "    <tr>\n",
       "      <th>1</th>\n",
       "      <td>quarto</td>\n",
       "      <td>17.722222</td>\n",
       "      <td>25.478889</td>\n",
       "      <td>62.476667</td>\n",
       "    </tr>\n",
       "    <tr>\n",
       "      <th>2</th>\n",
       "      <td>sala</td>\n",
       "      <td>23.166667</td>\n",
       "      <td>26.466667</td>\n",
       "      <td>42.343333</td>\n",
       "    </tr>\n",
       "  </tbody>\n",
       "</table>\n",
       "</div>"
      ],
      "text/plain": [
       "     Location         id  Temperatura    Umidade\n",
       "0  escritorio  24.000000    24.829091  26.888182\n",
       "1      quarto  17.722222    25.478889  62.476667\n",
       "2        sala  23.166667    26.466667  42.343333"
      ]
     },
     "execution_count": 11,
     "metadata": {},
     "output_type": "execute_result"
    }
   ],
   "source": [
    "# agrupamento de valores médios por location\n",
    "df_location_mean = df.groupby('Location', as_index=False).mean()\n",
    "df_location_mean.head()"
   ]
  },
  {
   "cell_type": "code",
   "execution_count": 12,
   "metadata": {},
   "outputs": [
    {
     "data": {
      "text/plain": [
       "Text(0.5, 1.0, 'Temperatura / Umidade média por local')"
      ]
     },
     "execution_count": 12,
     "metadata": {},
     "output_type": "execute_result"
    },
    {
     "data": {
      "image/png": "[encoded data removed]",
      "text/plain": [
       "<Figure size 1152x432 with 1 Axes>"
      ]
     },
     "metadata": {
      "needs_background": "light"
     },
     "output_type": "display_data"
    }
   ],
   "source": [
    "# plot do gráfico de barras de temperatura e umidade média por local\n",
    "df_location_mean.plot.bar(x='Location', y=['Temperatura','Umidade'])\n",
    "plt.title('Temperatura / Umidade média por local')"
   ]
  }
 ],
 "metadata": {
  "interpreter": {
   "hash": "31f2aee4e71d21fbe5cf8b01ff0e069b9275f58929596ceb00d14d90e3e16cd6"
  },
  "kernelspec": {
   "display_name": "Python 3.8.10 64-bit",
   "language": "python",
   "name": "python3"
  },
  "language_info": {
   "codemirror_mode": {
    "name": "ipython",
    "version": 3
   },
   "file_extension": ".py",
   "mimetype": "text/x-python",
   "name": "python",
   "nbconvert_exporter": "python",
   "pygments_lexer": "ipython3",
   "version": "3.9.4"
  },
  "orig_nbformat": 4
 },
 "nbformat": 4,
 "nbformat_minor": 2
}
